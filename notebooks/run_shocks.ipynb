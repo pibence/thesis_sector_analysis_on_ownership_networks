{
 "cells": [
  {
   "cell_type": "code",
   "execution_count": null,
   "metadata": {},
   "outputs": [],
   "source": [
    "import os\n",
    "os.chdir(\"..\")\n",
    "\n",
    "import networkx as nx\n",
    "from load.helpers import parse_yaml\n",
    "from graph.model import simulate_shock_for_multiple_sectors, simulate_shock_for_multiple_sectors\n",
    "from graph.create import get_largest_cc\n",
    "\n",
    "config_dict = parse_yaml(\"config.yaml\")"
   ]
  },
  {
   "cell_type": "code",
   "execution_count": null,
   "metadata": {},
   "outputs": [],
   "source": [
    "g = nx.read_gexf(config_dict[\"graph\"][\"graph_path\"])"
   ]
  },
  {
   "cell_type": "code",
   "execution_count": null,
   "metadata": {},
   "outputs": [],
   "source": [
    "for node in g.nodes():\n",
    "    g.nodes[node]['equity'] /= 1000\n",
    "    g.nodes[node]['liabilities'] /= 1000"
   ]
  },
  {
   "cell_type": "code",
   "execution_count": null,
   "metadata": {},
   "outputs": [],
   "source": [
    "h = get_largest_cc(g)"
   ]
  },
  {
   "cell_type": "code",
   "execution_count": null,
   "metadata": {},
   "outputs": [],
   "source": [
    "simulate_shock_for_multiple_sectors(h, 1.8, 0.1, 0.4, 10, config_dict['outputs']['simulations'], config_dict['lists']['sectors'])"
   ]
  }
 ],
 "metadata": {
  "kernelspec": {
   "display_name": "Python 3.8.11 ('thesis')",
   "language": "python",
   "name": "python3"
  },
  "language_info": {
   "name": "python",
   "version": "3.8.11"
  },
  "orig_nbformat": 4,
  "vscode": {
   "interpreter": {
    "hash": "9cf93756c5b625629ff615f5d07f7530973bf0d703fcd26f6534570c875872af"
   }
  }
 },
 "nbformat": 4,
 "nbformat_minor": 2
}
