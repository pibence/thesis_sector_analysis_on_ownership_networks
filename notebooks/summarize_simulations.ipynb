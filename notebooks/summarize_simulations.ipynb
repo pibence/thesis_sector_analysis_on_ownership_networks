{
 "cells": [
  {
   "cell_type": "code",
   "execution_count": 1,
   "metadata": {},
   "outputs": [],
   "source": [
    "import os\n",
    "os.chdir(\"..\")\n",
    "\n",
    "from load.helpers import parse_yaml\n",
    "from graph.describe import create_largest_influence_table\n",
    "\n",
    "config_dict = parse_yaml(\"config.yaml\")"
   ]
  },
  {
   "cell_type": "code",
   "execution_count": null,
   "metadata": {},
   "outputs": [],
   "source": [
    "largest_influence_df = create_largest_influence_table(config_dict[\"output_map\"], config_dict[\"outputs\"][\"simulations\"], config_dict[\"lists\"][\"sectors\"])"
   ]
  },
  {
   "cell_type": "code",
   "execution_count": null,
   "metadata": {},
   "outputs": [],
   "source": []
  }
 ],
 "metadata": {
  "kernelspec": {
   "display_name": "Python 3.8.11 ('thesis')",
   "language": "python",
   "name": "python3"
  },
  "language_info": {
   "codemirror_mode": {
    "name": "ipython",
    "version": 3
   },
   "file_extension": ".py",
   "mimetype": "text/x-python",
   "name": "python",
   "nbconvert_exporter": "python",
   "pygments_lexer": "ipython3",
   "version": "3.8.11"
  },
  "orig_nbformat": 4,
  "vscode": {
   "interpreter": {
    "hash": "9cf93756c5b625629ff615f5d07f7530973bf0d703fcd26f6534570c875872af"
   }
  }
 },
 "nbformat": 4,
 "nbformat_minor": 2
}
